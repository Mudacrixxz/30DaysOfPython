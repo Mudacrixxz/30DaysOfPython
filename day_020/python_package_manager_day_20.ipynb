{
 "cells": [
  {
   "attachments": {},
   "cell_type": "markdown",
   "metadata": {},
   "source": [
    "# Day 20: Thirty Days of Python Programming\n",
    "## Exercises: Day 20"
   ]
  },
  {
   "attachments": {},
   "cell_type": "markdown",
   "metadata": {},
   "source": [
    "1. Read this url and find the 10 most frequent words. romeo_and_juliet = 'http://www.gutenberg.org/files/1112/1112.txt'\n"
   ]
  },
  {
   "cell_type": "code",
   "execution_count": 3,
   "metadata": {},
   "outputs": [],
   "source": [
    "# importing required modules\n",
    "import re\n",
    "import requests\n"
   ]
  },
  {
   "cell_type": "code",
   "execution_count": 4,
   "metadata": {},
   "outputs": [
    {
     "name": "stdout",
     "output_type": "stream",
     "text": [
      " response object: <Response [200]>\n",
      " response status code: 200\n",
      " response headers: {'Date': 'Fri, 24 Feb 2023 04:26:14 GMT', 'Server': 'Apache', 'Last-Modified': 'Sat, 17 Oct 2020 15:05:23 GMT', 'Accept-Ranges': 'bytes', 'Content-Length': '179410', 'Content-Type': 'text/plain'}\n",
      " result: [(766, 'the'), (583, 'I'), (555, 'and'), (533, 'to'), (487, 'of'), (460, 'a'), (341, 'in'), (334, 'is'), (318, 'you'), (310, 'my')]\n"
     ]
    }
   ],
   "source": [
    "url = 'http://www.gutenberg.org/files/1112/1112.txt'\n",
    "response = requests.get(url)\n",
    "print(f' response object: {response}')\n",
    "print(f' response status code: {response.status_code}')\n",
    "print(f' response headers: {response.headers}')\n",
    "text = response.text\n",
    "text = re.sub(r'[^\\w\\s]','',text)\n",
    "words = text.split()\n",
    "words_dict = {}\n",
    "for word in words:\n",
    "    words_dict[word] = words_dict.get(word,0) + 1\n",
    "words_sorted = sorted(words_dict.items(),key=lambda x:x[1],reverse=True)\n",
    "result = [(word[1],word[0]) for word in words_sorted]\n",
    "print(f' result: {result[:10]}') # it worked, yay!!!!!\n"
   ]
  },
  {
   "attachments": {},
   "cell_type": "markdown",
   "metadata": {},
   "source": [
    "2. Read the cats API and cats_api = 'https://api.thecatapi.com/v1/breeds' and find :\n",
    " \n",
    "* the min, max, mean, median, standard deviation of cats' weight in metric units.\n",
    "*  the min, max, mean, median, standard deviation of cats' lifespan in years.\n",
    "*  Create a frequency table of country and breed of cats\n"
   ]
  },
  {
   "cell_type": "code",
   "execution_count": 5,
   "metadata": {},
   "outputs": [],
   "source": [
    "cats_api = 'https://api.thecatapi.com/v1/breeds'\n",
    "\n",
    "response = requests.get(cats_api)\n",
    "\n",
    "if response.status_code == 200:\n",
    "    cat_breeds = response.json()\n",
    "else:\n",
    "    print(\"Failed to retrieve information from API\")\n"
   ]
  },
  {
   "cell_type": "code",
   "execution_count": 6,
   "metadata": {},
   "outputs": [
    {
     "data": {
      "text/plain": [
       "['3 - 5', '3 - 5', '3 - 7', '2 - 5', '4 - 7']"
      ]
     },
     "execution_count": 6,
     "metadata": {},
     "output_type": "execute_result"
    }
   ],
   "source": [
    "'''getting the list of the weights of all the cats in metric units, \n",
    "has upper and lower limits'''\n",
    "cat_weight_metric = []\n",
    "for i in range(len(cat_breeds)):\n",
    "  cat_weight_metric.append(cat_breeds[i]['weight']['metric'])\n",
    "cat_weight_metric[:5]"
   ]
  },
  {
   "cell_type": "code",
   "execution_count": 7,
   "metadata": {},
   "outputs": [
    {
     "data": {
      "text/plain": [
       "['14 - 15', '9 - 12', '11 - 15', '12 - 16', '15 - 17']"
      ]
     },
     "execution_count": 7,
     "metadata": {},
     "output_type": "execute_result"
    }
   ],
   "source": [
    "# Doing same for lifespan\n",
    "cat_weight_lifespan = []\n",
    "for i in range(len(cat_breeds)):\n",
    "  cat_weight_lifespan.append(cat_breeds[i]['life_span'])\n",
    "cat_weight_lifespan[:5]"
   ]
  },
  {
   "cell_type": "code",
   "execution_count": 8,
   "metadata": {},
   "outputs": [],
   "source": [
    "# getting a function to make them integers and get two lists of upper and lower limits\n",
    "def convert_to_numbers(string):\n",
    "    start, end = map(int, string.split(\" - \"))\n",
    "    return start, end\n",
    "\n",
    "# converting the weights to numbers using the function to get upper and lower weight limits for each, two lists:\n",
    "cat_weight_metric_number = list(map(convert_to_numbers,cat_weight_metric))\n",
    "lower_cat_weight_metric,upper_cat_weight_metric = [i[0] for i in cat_weight_metric_number],[i[1]for i in cat_weight_metric_number]\n",
    "\n",
    "# same for lifespans in years\n",
    "cat_lifespan_number = list(map(convert_to_numbers,cat_weight_lifespan))\n",
    "lower_cat_lifespan,upper_cat_lifespan = [i[0] for i in cat_lifespan_number],[i[1]for i in cat_lifespan_number]\n"
   ]
  },
  {
   "cell_type": "code",
   "execution_count": 9,
   "metadata": {},
   "outputs": [
    {
     "name": "stdout",
     "output_type": "stream",
     "text": [
      "Max of upper limit of cat's weights in metric units is: 11 \n",
      "Min of upper limit of cat's weights in metric units is: 4 \n",
      "Mean of upper limit of cat's weights in metric units is: 6.1940298507462686 \n",
      "Median of upper limit of cat's weights in metric units is: 6 \n",
      "Std of upper limit of cat's weights in metric units is: 1.416769757070632 \n",
      "{'Max': 11, 'Minimum': 4, 'Mean': 6.1940298507462686, 'Median': 6, 'std': 1.416769757070632}\n"
     ]
    }
   ],
   "source": [
    "# Using statistics module to get the descriptive statistics (mean,median and std) \n",
    "# for the lower and upper limits, can use the min and max list methods\n",
    "import statistics as stats\n",
    "print(f'Max of upper limit of cat\\'s weights in metric units is: {max(upper_cat_weight_metric)} ')\n",
    "print(f'Min of upper limit of cat\\'s weights in metric units is: {min(upper_cat_weight_metric)} ')\n",
    "print(f'Mean of upper limit of cat\\'s weights in metric units is: {stats.mean(upper_cat_weight_metric)} ')\n",
    "print(f'Median of upper limit of cat\\'s weights in metric units is: {stats.median(upper_cat_weight_metric)} ')\n",
    "print(f'Std of upper limit of cat\\'s weights in metric units is: {stats.stdev(upper_cat_weight_metric)} ')\n",
    "\n",
    "# Will use the function below to get the parameters\n",
    "def stats_params(list):\n",
    "    '''\n",
    "    Takes a list and returns a dictionary of certain statistics parameters of the list\n",
    "    '''\n",
    "    import statistics as stats\n",
    "    stat = {}\n",
    "    stat['Max'] = max(list)\n",
    "    stat['Minimum'] = min(list)\n",
    "    stat['Mean'] = stats.mean(list)\n",
    "    stat['Median'] = stats.median(list)\n",
    "    stat['std'] = stats.stdev(list)\n",
    "    return stat\n",
    "print(stats_params(upper_cat_weight_metric))\n",
    "\n"
   ]
  },
  {
   "cell_type": "code",
   "execution_count": 10,
   "metadata": {},
   "outputs": [
    {
     "name": "stdout",
     "output_type": "stream",
     "text": [
      "Upper limit of cat weights in metric units: {'Max': 11, 'Minimum': 4, 'Mean': 6.1940298507462686, 'Median': 6, 'std': 1.416769757070632}, lower limit of cat weights in metric units: {'Max': 5, 'Minimum': 2, 'Mean': 3.2238805970149254, 'Median': 3, 'std': 0.8845628182703051},upper limit of cat lifespan in years : {'Max': 20, 'Minimum': 12, 'Mean': 15.417910447761194, 'Median': 15, 'std': 1.6343774065406076},lower limits of cat lifespan in years: {'Max': 18, 'Minimum': 8, 'Mean': 12.074626865671641, 'Median': 12, 'std': 1.8283411328456127}\n"
     ]
    }
   ],
   "source": [
    "print(f'Upper limit of cat weights in metric units: {stats_params(upper_cat_weight_metric)}, lower limit of cat weights in metric units: {stats_params(lower_cat_weight_metric)},upper limit of cat lifespan in years : {stats_params(upper_cat_lifespan)},lower limits of cat lifespan in years: {stats_params(lower_cat_lifespan)}')"
   ]
  },
  {
   "cell_type": "code",
   "execution_count": 11,
   "metadata": {},
   "outputs": [
    {
     "name": "stdout",
     "output_type": "stream",
     "text": [
      "Answer to first two sub questions of question 2: {'Upper limit stats of cat weights in metric units': {'Max': 11, 'Minimum': 4, 'Mean': 6.1940298507462686, 'Median': 6, 'std': 1.416769757070632}, 'Lower limit stats of cat weights in metric units': {'Max': 5, 'Minimum': 2, 'Mean': 3.2238805970149254, 'Median': 3, 'std': 0.8845628182703051}, 'Upper limit stat of cat lifespan in years': {'Max': 20, 'Minimum': 12, 'Mean': 15.417910447761194, 'Median': 15, 'std': 1.6343774065406076}, 'Lower limit stats of cat lifespan in years': {'Max': 18, 'Minimum': 8, 'Mean': 12.074626865671641, 'Median': 12, 'std': 1.8283411328456127}}\n"
     ]
    }
   ],
   "source": [
    "answer_dict = {}\n",
    "answer_dict['Upper limit stats of cat weights in metric units'] = stats_params(upper_cat_weight_metric)\n",
    "answer_dict['Lower limit stats of cat weights in metric units'] = stats_params(lower_cat_weight_metric)\n",
    "answer_dict['Upper limit stat of cat lifespan in years'] = stats_params(upper_cat_lifespan)\n",
    "answer_dict['Lower limit stats of cat lifespan in years'] = stats_params(lower_cat_lifespan)\n",
    "print(f'Answer to first two sub questions of question 2: {answer_dict}')"
   ]
  },
  {
   "cell_type": "code",
   "execution_count": 12,
   "metadata": {},
   "outputs": [
    {
     "name": "stdout",
     "output_type": "stream",
     "text": [
      "defaultdict(<class 'int'>, {'Egypt': 3, 'Greece': 1, 'United States': 28, 'United Arab Emirates': 1, 'Australia': 1, 'France': 2, 'United Kingdom': 8, 'Burma': 2, 'Canada': 3, 'Cyprus': 1, 'Russia': 4, 'China': 1, 'Japan': 1, 'Thailand': 4, 'Isle of Man': 1, 'Norway': 1, 'Iran (Persia)': 1, 'Singapore': 1, 'Somalia': 1, 'Turkey': 2})\n"
     ]
    }
   ],
   "source": [
    "# Third sub-question\n",
    "from collections import defaultdict\n",
    "# Getting the frequency table \n",
    "frequency_table = defaultdict(int)\n",
    "breed_info = {}\n",
    "for breed in cat_breeds:\n",
    "    breed_info[breed['name']] = breed['origin']\n",
    "for breed in breed_info.values():\n",
    "    frequency_table[breed] += 1\n",
    "\n",
    "print(frequency_table)\n"
   ]
  },
  {
   "attachments": {},
   "cell_type": "markdown",
   "metadata": {},
   "source": [
    "3. Read the countries API and find\n",
    "* the 10 largest countries\n",
    "* the 10 most spoken languages\n",
    "* the total number of languages in the countries API\n"
   ]
  },
  {
   "cell_type": "code",
   "execution_count": 13,
   "metadata": {},
   "outputs": [],
   "source": [
    "## The website (https://restcountries.eu/rest/v2/all) doesn't open. "
   ]
  },
  {
   "attachments": {},
   "cell_type": "markdown",
   "metadata": {},
   "source": [
    "4. UCI is one of the most common places to get data sets for data science and machine learning. Read the content of UCL (https://archive.ics.uci.edu/ml/datasets.php). Without additional libraries it will be difficult, so you may try it with BeautifulSoup4\n"
   ]
  },
  {
   "cell_type": "code",
   "execution_count": 14,
   "metadata": {},
   "outputs": [],
   "source": [
    "import requests\n",
    "from bs4 import BeautifulSoup\n",
    "\n",
    "url = \"https://archive.ics.uci.edu/ml/datasets.php\"\n",
    "\n",
    "# Make a GET request to the website\n",
    "response = requests.get(url)\n",
    "\n",
    "# Parse the HTML content of the page\n",
    "soup = BeautifulSoup(response.content, 'html.parser')\n",
    "\n",
    "# Find the table containing the list of datasets\n",
    "\n",
    "# Extract the data from each row of the table\n",
    "# work in progress"
   ]
  }
 ],
 "metadata": {
  "kernelspec": {
   "display_name": "arewads",
   "language": "python",
   "name": "python3"
  },
  "language_info": {
   "codemirror_mode": {
    "name": "ipython",
    "version": 3
   },
   "file_extension": ".py",
   "mimetype": "text/x-python",
   "name": "python",
   "nbconvert_exporter": "python",
   "pygments_lexer": "ipython3",
   "version": "3.10.9"
  },
  "orig_nbformat": 4,
  "vscode": {
   "interpreter": {
    "hash": "ecd4e142ebccc3fd7084570410fe59cd1b27be74a366f3eef26f476ec1872160"
   }
  }
 },
 "nbformat": 4,
 "nbformat_minor": 2
}
